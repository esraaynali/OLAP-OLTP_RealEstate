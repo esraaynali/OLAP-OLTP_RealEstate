{
 "cells": [
  {
   "cell_type": "code",
   "execution_count": 1,
   "id": "d20ab8c9",
   "metadata": {},
   "outputs": [],
   "source": [
    "import pandas as pd\n",
    "import matplotlib.pyplot as plt"
   ]
  },
  {
   "cell_type": "code",
   "execution_count": 2,
   "id": "1e5fbd68",
   "metadata": {},
   "outputs": [],
   "source": [
    "address = pd.read_csv('address.csv')"
   ]
  },
  {
   "cell_type": "code",
   "execution_count": 3,
   "id": "610d31d6",
   "metadata": {},
   "outputs": [
    {
     "data": {
      "image/png": "[encoded data removed]",
      "text/plain": [
       "<Figure size 432x288 with 1 Axes>"
      ]
     },
     "metadata": {
      "needs_background": "light"
     },
     "output_type": "display_data"
    },
    {
     "data": {
      "text/plain": [
       "<Figure size 432x288 with 0 Axes>"
      ]
     },
     "metadata": {},
     "output_type": "display_data"
    }
   ],
   "source": [
    "address.groupby('city')['address_id'].nunique().plot(kind='bar').set_title('Sold Property per City')\n",
    "plt.show()"
   ]
  },
  {
   "cell_type": "code",
   "execution_count": 4,
   "id": "43cdc660",
   "metadata": {},
   "outputs": [
    {
     "data": {
      "text/html": [
       "<div>\n",
       "<style scoped>\n",
       "    .dataframe tbody tr th:only-of-type {\n",
       "        vertical-align: middle;\n",
       "    }\n",
       "\n",
       "    .dataframe tbody tr th {\n",
       "        vertical-align: top;\n",
       "    }\n",
       "\n",
       "    .dataframe thead th {\n",
       "        text-align: right;\n",
       "    }\n",
       "</style>\n",
       "<table border=\"1\" class=\"dataframe\">\n",
       "  <thead>\n",
       "    <tr style=\"text-align: right;\">\n",
       "      <th></th>\n",
       "      <th>rep_id</th>\n",
       "      <th>supervisor_id</th>\n",
       "      <th>first_name</th>\n",
       "      <th>last_name</th>\n",
       "      <th>email</th>\n",
       "      <th>hire_date</th>\n",
       "      <th>dob</th>\n",
       "      <th>gender</th>\n",
       "    </tr>\n",
       "  </thead>\n",
       "  <tbody>\n",
       "    <tr>\n",
       "      <th>0</th>\n",
       "      <td>1</td>\n",
       "      <td>6.0</td>\n",
       "      <td>Esra</td>\n",
       "      <td>Aynali</td>\n",
       "      <td>eaynali@myhomes.com</td>\n",
       "      <td>2022-01-17</td>\n",
       "      <td>1992-04-23</td>\n",
       "      <td>F</td>\n",
       "    </tr>\n",
       "    <tr>\n",
       "      <th>1</th>\n",
       "      <td>2</td>\n",
       "      <td>8.0</td>\n",
       "      <td>Parto</td>\n",
       "      <td>Bamford</td>\n",
       "      <td>pbamford@myhomes.com</td>\n",
       "      <td>2002-05-01</td>\n",
       "      <td>1986-12-01</td>\n",
       "      <td>M</td>\n",
       "    </tr>\n",
       "    <tr>\n",
       "      <th>2</th>\n",
       "      <td>3</td>\n",
       "      <td>7.0</td>\n",
       "      <td>John</td>\n",
       "      <td>Green</td>\n",
       "      <td>jgreen@myhomes.com</td>\n",
       "      <td>2000-05-14</td>\n",
       "      <td>1988-07-23</td>\n",
       "      <td>M</td>\n",
       "    </tr>\n",
       "    <tr>\n",
       "      <th>3</th>\n",
       "      <td>4</td>\n",
       "      <td>8.0</td>\n",
       "      <td>Alex</td>\n",
       "      <td>Turner</td>\n",
       "      <td>aturner@myhomes.com</td>\n",
       "      <td>2008-01-27</td>\n",
       "      <td>1990-06-05</td>\n",
       "      <td>M</td>\n",
       "    </tr>\n",
       "    <tr>\n",
       "      <th>4</th>\n",
       "      <td>5</td>\n",
       "      <td>9.0</td>\n",
       "      <td>Eva</td>\n",
       "      <td>Doe</td>\n",
       "      <td>edoe@myhomes.com</td>\n",
       "      <td>2021-04-23</td>\n",
       "      <td>1984-03-04</td>\n",
       "      <td>F</td>\n",
       "    </tr>\n",
       "  </tbody>\n",
       "</table>\n",
       "</div>"
      ],
      "text/plain": [
       "   rep_id  supervisor_id first_name last_name                 email  \\\n",
       "0       1            6.0       Esra    Aynali   eaynali@myhomes.com   \n",
       "1       2            8.0      Parto   Bamford  pbamford@myhomes.com   \n",
       "2       3            7.0       John     Green    jgreen@myhomes.com   \n",
       "3       4            8.0       Alex    Turner   aturner@myhomes.com   \n",
       "4       5            9.0        Eva       Doe      edoe@myhomes.com   \n",
       "\n",
       "    hire_date         dob gender  \n",
       "0  2022-01-17  1992-04-23      F  \n",
       "1  2002-05-01  1986-12-01      M  \n",
       "2  2000-05-14  1988-07-23      M  \n",
       "3  2008-01-27  1990-06-05      M  \n",
       "4  2021-04-23  1984-03-04      F  "
      ]
     },
     "execution_count": 4,
     "metadata": {},
     "output_type": "execute_result"
    }
   ],
   "source": [
    "representatives = pd.read_csv('representatives.csv')\n",
    "representatives.head()"
   ]
  },
  {
   "cell_type": "code",
   "execution_count": 5,
   "id": "a07642da",
   "metadata": {},
   "outputs": [
    {
     "data": {
      "image/png": "[encoded data removed]",
      "text/plain": [
       "<Figure size 432x288 with 1 Axes>"
      ]
     },
     "metadata": {
      "needs_background": "light"
     },
     "output_type": "display_data"
    },
    {
     "data": {
      "text/plain": [
       "<Figure size 432x288 with 0 Axes>"
      ]
     },
     "metadata": {},
     "output_type": "display_data"
    }
   ],
   "source": [
    "representatives['dob'] = pd.to_datetime(representatives['dob'],infer_datetime_format=True)\n",
    "plt.clf()\n",
    "representatives['dob'].map(lambda d:d.year).plot(kind='hist').set_title(\"Representatives' DOB\")\n",
    "plt.show()"
   ]
  },
  {
   "cell_type": "code",
   "execution_count": 6,
   "id": "f46c14e7",
   "metadata": {},
   "outputs": [
    {
     "data": {
      "image/png": "[encoded data removed]",
      "text/plain": [
       "<Figure size 432x288 with 1 Axes>"
      ]
     },
     "metadata": {
      "needs_background": "light"
     },
     "output_type": "display_data"
    },
    {
     "data": {
      "text/plain": [
       "<Figure size 432x288 with 0 Axes>"
      ]
     },
     "metadata": {},
     "output_type": "display_data"
    }
   ],
   "source": [
    "representatives['hire_date'] = pd.to_datetime(representatives['hire_date'],infer_datetime_format=True)\n",
    "plt.clf()\n",
    "representatives['hire_date'].map(lambda d:d.month).plot(kind='hist').set_title('Hiring Months')\n",
    "plt.show()"
   ]
  },
  {
   "cell_type": "code",
   "execution_count": 7,
   "id": "8cb707d0",
   "metadata": {},
   "outputs": [
    {
     "data": {
      "image/png": "[encoded data removed]",
      "text/plain": [
       "<Figure size 432x288 with 1 Axes>"
      ]
     },
     "metadata": {},
     "output_type": "display_data"
    },
    {
     "data": {
      "text/plain": [
       "<Figure size 432x288 with 0 Axes>"
      ]
     },
     "metadata": {},
     "output_type": "display_data"
    }
   ],
   "source": [
    "def perc_gen(val):\n",
    "    return f'{val/100*len(representatives):.0f}\\n{val:.0f}%'\n",
    "representatives.groupby('gender').size().plot(kind='pie',\n",
    "autopct=perc_gen,colors=['pink','skyblue']).set_ylabel('Gender Distribution')\n",
    "plt.show()"
   ]
  },
  {
   "cell_type": "code",
   "execution_count": 8,
   "id": "599e2137",
   "metadata": {},
   "outputs": [
    {
     "data": {
      "text/html": [
       "<div>\n",
       "<style scoped>\n",
       "    .dataframe tbody tr th:only-of-type {\n",
       "        vertical-align: middle;\n",
       "    }\n",
       "\n",
       "    .dataframe tbody tr th {\n",
       "        vertical-align: top;\n",
       "    }\n",
       "\n",
       "    .dataframe thead th {\n",
       "        text-align: right;\n",
       "    }\n",
       "</style>\n",
       "<table border=\"1\" class=\"dataframe\">\n",
       "  <thead>\n",
       "    <tr style=\"text-align: right;\">\n",
       "      <th></th>\n",
       "      <th>sales_id</th>\n",
       "      <th>property_id</th>\n",
       "      <th>rep_id</th>\n",
       "      <th>buyer_id</th>\n",
       "      <th>area_id</th>\n",
       "      <th>sold_date</th>\n",
       "      <th>rep_bonus</th>\n",
       "      <th>total_payment</th>\n",
       "      <th>reference</th>\n",
       "      <th>payment</th>\n",
       "    </tr>\n",
       "  </thead>\n",
       "  <tbody>\n",
       "    <tr>\n",
       "      <th>0</th>\n",
       "      <td>1</td>\n",
       "      <td>1</td>\n",
       "      <td>1</td>\n",
       "      <td>20</td>\n",
       "      <td>4</td>\n",
       "      <td>2022-01-14</td>\n",
       "      <td>7650.0</td>\n",
       "      <td>772650.0</td>\n",
       "      <td>N</td>\n",
       "      <td>installment</td>\n",
       "    </tr>\n",
       "    <tr>\n",
       "      <th>1</th>\n",
       "      <td>2</td>\n",
       "      <td>2</td>\n",
       "      <td>1</td>\n",
       "      <td>11</td>\n",
       "      <td>2</td>\n",
       "      <td>2021-09-14</td>\n",
       "      <td>2500.0</td>\n",
       "      <td>252500.0</td>\n",
       "      <td>Y</td>\n",
       "      <td>cash</td>\n",
       "    </tr>\n",
       "    <tr>\n",
       "      <th>2</th>\n",
       "      <td>3</td>\n",
       "      <td>3</td>\n",
       "      <td>2</td>\n",
       "      <td>14</td>\n",
       "      <td>5</td>\n",
       "      <td>2022-02-03</td>\n",
       "      <td>10000.0</td>\n",
       "      <td>1010000.0</td>\n",
       "      <td>N</td>\n",
       "      <td>cash</td>\n",
       "    </tr>\n",
       "    <tr>\n",
       "      <th>3</th>\n",
       "      <td>4</td>\n",
       "      <td>4</td>\n",
       "      <td>3</td>\n",
       "      <td>17</td>\n",
       "      <td>6</td>\n",
       "      <td>2021-07-20</td>\n",
       "      <td>4507.5</td>\n",
       "      <td>455257.5</td>\n",
       "      <td>Y</td>\n",
       "      <td>checks</td>\n",
       "    </tr>\n",
       "    <tr>\n",
       "      <th>4</th>\n",
       "      <td>5</td>\n",
       "      <td>5</td>\n",
       "      <td>2</td>\n",
       "      <td>4</td>\n",
       "      <td>13</td>\n",
       "      <td>2021-08-29</td>\n",
       "      <td>8000.0</td>\n",
       "      <td>808000.0</td>\n",
       "      <td>N</td>\n",
       "      <td>checks</td>\n",
       "    </tr>\n",
       "  </tbody>\n",
       "</table>\n",
       "</div>"
      ],
      "text/plain": [
       "   sales_id  property_id  rep_id  buyer_id  area_id   sold_date  rep_bonus  \\\n",
       "0         1            1       1        20        4  2022-01-14     7650.0   \n",
       "1         2            2       1        11        2  2021-09-14     2500.0   \n",
       "2         3            3       2        14        5  2022-02-03    10000.0   \n",
       "3         4            4       3        17        6  2021-07-20     4507.5   \n",
       "4         5            5       2         4       13  2021-08-29     8000.0   \n",
       "\n",
       "   total_payment reference      payment  \n",
       "0       772650.0         N  installment  \n",
       "1       252500.0         Y         cash  \n",
       "2      1010000.0         N         cash  \n",
       "3       455257.5         Y       checks  \n",
       "4       808000.0         N       checks  "
      ]
     },
     "execution_count": 8,
     "metadata": {},
     "output_type": "execute_result"
    }
   ],
   "source": [
    "sales_fact = pd.read_csv('sales_fact.csv')\n",
    "sales_fact.head()"
   ]
  },
  {
   "cell_type": "code",
   "execution_count": 9,
   "id": "be4a4bf5",
   "metadata": {},
   "outputs": [
    {
     "data": {
      "image/png": "[encoded data removed]",
      "text/plain": [
       "<Figure size 432x288 with 1 Axes>"
      ]
     },
     "metadata": {
      "needs_background": "light"
     },
     "output_type": "display_data"
    },
    {
     "data": {
      "text/plain": [
       "<Figure size 432x288 with 0 Axes>"
      ]
     },
     "metadata": {},
     "output_type": "display_data"
    }
   ],
   "source": [
    "# sold property per representative\n",
    "sales_fact.groupby('rep_id')['property_id'].nunique().plot(kind='bar')\n",
    "plt.ylabel('number of sold properties')\n",
    "plt.xlabel('Representative ID')\n",
    "plt.show()"
   ]
  },
  {
   "cell_type": "code",
   "execution_count": 12,
   "id": "8ed8a4f6",
   "metadata": {},
   "outputs": [
    {
     "data": {
      "image/png": "[encoded data removed]",
      "text/plain": [
       "<Figure size 432x288 with 1 Axes>"
      ]
     },
     "metadata": {
      "needs_background": "light"
     },
     "output_type": "display_data"
    }
   ],
   "source": [
    "sales_fact.groupby('rep_id')['area_id'].nunique().plot(kind='bar')\n",
    "plt.xlabel('Representative ID')\n",
    "plt.ylabel('Number of Areas')\n",
    "plt.show()"
   ]
  }
 ],
 "metadata": {
  "kernelspec": {
   "display_name": "Python 3 (ipykernel)",
   "language": "python",
   "name": "python3"
  },
  "language_info": {
   "codemirror_mode": {
    "name": "ipython",
    "version": 3
   },
   "file_extension": ".py",
   "mimetype": "text/x-python",
   "name": "python",
   "nbconvert_exporter": "python",
   "pygments_lexer": "ipython3",
   "version": "3.9.7"
  }
 },
 "nbformat": 4,
 "nbformat_minor": 5
}
